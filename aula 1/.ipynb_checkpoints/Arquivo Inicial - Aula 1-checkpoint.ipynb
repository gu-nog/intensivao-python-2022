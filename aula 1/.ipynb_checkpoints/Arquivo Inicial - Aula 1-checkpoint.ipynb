{
 "cells": [
  {
   "cell_type": "markdown",
   "metadata": {},
   "source": [
    "# Automação de Sistemas e Processos com Python\n",
    "\n",
    "### Desafio:\n",
    "\n",
    "Todos os dias, o nosso sistema atualiza as vendas do dia anterior.\n",
    "O seu trabalho diário, como analista, é enviar um e-mail para a diretoria, assim que começar a trabalhar, com o faturamento e a quantidade de produtos vendidos no dia anterior\n",
    "\n",
    "E-mail da diretoria: seugmail+diretoria@gmail.com<br>\n",
    "Local onde o sistema disponibiliza as vendas do dia anterior: https://drive.google.com/drive/folders/149xknr9JvrlEnhNWO49zPcw0PW5icxga?usp=sharing\n",
    "\n",
    "Para resolver isso, vamos usar o pyautogui, uma biblioteca de automação de comandos do mouse e do teclado"
   ]
  },
  {
   "cell_type": "code",
   "execution_count": 36,
   "metadata": {},
   "outputs": [],
   "source": [
    "import pyautogui\n",
    "import pyperclip\n",
    "import time\n",
    "\n",
    "pyautogui.PAUSE = 1  # 1 segundo de descanso entre as interações da biblioteca para o computador processar a ação\n",
    "pyautogui.hotkey('ctrl', 't')  # atalho no chrome para abrir nova aba\n",
    "pyperclip.copy('https://drive.google.com/drive/folders/149xknr9JvrlEnhNWO49zPcw0PW5icxga?usp=sharing')  # copia esse texto com caracteres especiais\n",
    "pyautogui.hotkey('ctrl', 'v')\n",
    "pyautogui.hotkey('enter')\n",
    "time.sleep(2)\n",
    "pyautogui.click(x=427, y=300, clicks=2)  # duplo click para abrir a pasta\n",
    "time.sleep(1)\n",
    "pyautogui.click(x=502, y=321)\n",
    "time.sleep(0.5)\n",
    "pyautogui.click(x=1720, y=201)\n",
    "time.sleep(0.5)\n",
    "pyautogui.click(x=1564, y=579)\n",
    "time.sleep(3)\n",
    "pyautogui.hotkey('ctrl', 'w')"
   ]
  },
  {
   "cell_type": "markdown",
   "metadata": {},
   "source": [
    "### Vamos agora ler o arquivo baixado para pegar os indicadores\n",
    "\n",
    "- Faturamento\n",
    "- Quantidade de Produtos"
   ]
  },
  {
   "cell_type": "code",
   "execution_count": 41,
   "metadata": {},
   "outputs": [
    {
     "name": "stdout",
     "output_type": "stream",
     "text": [
      "2917311 15227\n"
     ]
    }
   ],
   "source": [
    "import pandas as pd\n",
    "vendas = pd.read_excel('/home/gustavo/Downloads/Vendas - Dez.xlsx')  # transforma a planilha do excel em um df\n",
    "faturamento = vendas['Valor Final'].sum()\n",
    "quantidade = vendas['Quantidade'].sum()"
   ]
  },
  {
   "cell_type": "markdown",
   "metadata": {},
   "source": [
    "### Vamos agora enviar um e-mail pelo gmail"
   ]
  },
  {
   "cell_type": "markdown",
   "metadata": {},
   "source": [
    "pyautogui.PAUSE = 1\n",
    "pyautogui.hotkey('ctrl', 't')\n",
    "pyperclip.copy('https://mail.google.com/mail/u/0/#inbox')\n",
    "pyautogui.hotkey('ctrl', 'v')\n",
    "pyautogui.hotkey('enter')\n",
    "time.sleep(3)\n",
    "pyautogui.click(x=152, y=209)\n",
    "pyautogui.write('gumendes.nog@gmail.com')\n",
    "pyautogui.hotkey('tab')\n",
    "pyautogui.hotkey('tab')\n",
    "pyperclip.copy('Relatório de vendas')\n",
    "pyautogui.hotkey('ctrl', 'v')\n",
    "pyautogui.hotkey('tab')\n",
    "pyperclip.copy(f\"\"\"\n",
    "Prezado sr João,\n",
    "\n",
    "Segue o relatório de vendas desse mês:\n",
    "O faturamento foi de: {faturamento:,.2f}\n",
    "A quantidade de produtos vendidos foi: {quantidade:,}\n",
    "\n",
    "Obrigado,\n",
    "Gustavo\n",
    "\"\"\")  # o , na formatação separa por milhar"
   ]
  },
  {
   "cell_type": "markdown",
   "metadata": {},
   "source": [
    "#### Use esse código para descobrir qual a posição de um item que queira clicar\n",
    "\n",
    "- Lembre-se: a posição na sua tela é diferente da posição na minha tela"
   ]
  },
  {
   "cell_type": "code",
   "execution_count": 43,
   "metadata": {},
   "outputs": [
    {
     "data": {
      "text/plain": [
       "Point(x=152, y=209)"
      ]
     },
     "execution_count": 43,
     "metadata": {},
     "output_type": "execute_result"
    }
   ],
   "source": [
    "import time\n",
    "time.sleep(5)\n",
    "pyautogui.position()"
   ]
  },
  {
   "cell_type": "code",
   "execution_count": null,
   "metadata": {},
   "outputs": [],
   "source": []
  }
 ],
 "metadata": {
  "kernelspec": {
   "display_name": "Python 3 (ipykernel)",
   "language": "python",
   "name": "python3"
  },
  "language_info": {
   "codemirror_mode": {
    "name": "ipython",
    "version": 3
   },
   "file_extension": ".py",
   "mimetype": "text/x-python",
   "name": "python",
   "nbconvert_exporter": "python",
   "pygments_lexer": "ipython3",
   "version": "3.8.10"
  }
 },
 "nbformat": 4,
 "nbformat_minor": 4
}
