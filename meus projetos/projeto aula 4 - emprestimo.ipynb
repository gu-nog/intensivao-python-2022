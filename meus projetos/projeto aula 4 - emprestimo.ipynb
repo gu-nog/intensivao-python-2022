{
 "cells": [
  {
   "cell_type": "markdown",
   "metadata": {},
   "source": [
    "Objetivo: prever o valor que será concedido a certa pessoa em um empréstimo"
   ]
  },
  {
   "cell_type": "code",
   "execution_count": 46,
   "metadata": {},
   "outputs": [],
   "source": [
    "import pandas as pd\n",
    "teste = pd.read_csv('test_emprestimo.csv')\n",
    "treino = pd.read_csv('train_emprestimo.csv')\n",
    "\n",
    "# === limpar os dados ===\n",
    "\n",
    "# tirar dados inúteis\n",
    "teste.drop('Loan_ID', axis=1, inplace=True)\n",
    "treino.drop('Loan_ID', axis=1, inplace=True)\n",
    "\n",
    "# tirar dados nulos\n",
    "teste.dropna(inplace=True)\n",
    "treino.dropna(inplace=True)\n",
    "# OBS: apesar de serem removidos muitas amostras com o 'dropna', nesse caso, resolvi fazer isso, porque não poderia pegar a média ou algo do tipo, porque uma linha \n",
    "# não tem relação com outra\n",
    "\n",
    "# arrumar tipagem colunas\n",
    "# Coluna de gênero:\n",
    "teste = teste.replace('Male', 1).replace('Female', -1)\n",
    "treino = treino.replace('Male', 1).replace('Female', -1)\n",
    "# Married:\n",
    "teste = teste.replace('Yes', 1).replace('No', -1)\n",
    "treino = treino.replace('Yes', 1).replace('No', -1)\n",
    "# Education:\n",
    "teste = teste.replace('Graduate', 1).replace('Not Graduate', -1)\n",
    "treino = treino.replace('Graduate', 1).replace('Not Graduate', -1)\n",
    "# Property_Area:\n",
    "teste = teste.replace('Urban', 1).replace('Rural', -1).replace('Semiurban', 0)\n",
    "treino = treino.replace('Urban', 1).replace('Rural', -1).replace('Semiurban', 0)\n",
    "# Dependents:\n",
    "teste['Dependents'] = pd.to_numeric(teste['Dependents'].replace('3+', '3'))\n",
    "treino['Dependents'] = pd.to_numeric(treino['Dependents'].replace('3+', '3'))\n",
    "# Loan_Status:\n",
    "treino = treino.replace('N', -1).replace('Y', 1)\n",
    "\n",
    "teste_final = teste"
   ]
  },
  {
   "cell_type": "code",
   "execution_count": 47,
   "metadata": {},
   "outputs": [
    {
     "data": {
      "text/plain": [
       "[]"
      ]
     },
     "execution_count": 47,
     "metadata": {},
     "output_type": "execute_result"
    },
    {
     "data": {
      "image/png": "[encoded data removed]",
      "text/plain": [
       "<Figure size 432x288 with 2 Axes>"
      ]
     },
     "metadata": {
      "needs_background": "light"
     },
     "output_type": "display_data"
    }
   ],
   "source": [
    "# Análise exploratória\n",
    "import seaborn as sns\n",
    "import matplotlib.pyplot as plt\n",
    "sns.heatmap(treino.corr())\n",
    "plt.plot() # Credit_History é o com a maior relevância, provavelmente porque os bancos se sentem mais confortáveis com quem geralmente tem pagado suas contas, então o dará menor problema"
   ]
  },
  {
   "cell_type": "code",
   "execution_count": 48,
   "metadata": {},
   "outputs": [
    {
     "name": "stdout",
     "output_type": "stream",
     "text": [
      "Acurácia árvores: 0.8\n",
      "Acurácia regressão: 0.7625\n"
     ]
    },
    {
     "name": "stderr",
     "output_type": "stream",
     "text": [
      "/home/gustavo/anaconda3/lib/python3.9/site-packages/sklearn/linear_model/_logistic.py:762: ConvergenceWarning: lbfgs failed to converge (status=1):\n",
      "STOP: TOTAL NO. of ITERATIONS REACHED LIMIT.\n",
      "\n",
      "Increase the number of iterations (max_iter) or scale the data as shown in:\n",
      "    https://scikit-learn.org/stable/modules/preprocessing.html\n",
      "Please also refer to the documentation for alternative solver options:\n",
      "    https://scikit-learn.org/stable/modules/linear_model.html#logistic-regression\n",
      "  n_iter_i = _check_optimize_result(\n"
     ]
    }
   ],
   "source": [
    "# Modelo preditivo:\n",
    "from sklearn.ensemble import RandomForestClassifier  # não usarei nenhum modelo de regressão porque queremos classificar\n",
    "from sklearn.linear_model import LogisticRegression\n",
    "\n",
    "modelo_arvores = RandomForestClassifier()\n",
    "modelo_regressao = LogisticRegression()\n",
    "\n",
    "treino_y = treino[:400]['Loan_Status']\n",
    "treino_x = treino[:400].drop('Loan_Status', axis=1)\n",
    "teste_y = treino[400:]['Loan_Status']\n",
    "teste_x = treino[400:].drop('Loan_Status', axis=1)\n",
    "\n",
    "modelo_arvores.fit(treino_x, treino_y)\n",
    "modelo_regressao.fit(treino_x, treino_y)\n",
    "\n",
    "print('Acurácia árvores:', modelo_arvores.score(teste_x, teste_y))  # levemente melhor\n",
    "print('Acurácia regressão:', modelo_regressao.score(teste_x, teste_y))"
   ]
  },
  {
   "cell_type": "code",
   "execution_count": 49,
   "metadata": {},
   "outputs": [
    {
     "data": {
      "text/plain": [
       "array([ 1,  1,  1, -1,  1,  1, -1,  1,  1,  1,  1,  1,  1,  1,  1,  1,  1,\n",
       "        1,  1, -1,  1,  1,  1,  1,  1,  1,  1, -1,  1,  1,  1,  1,  1,  1,\n",
       "        1,  1,  1,  1,  1,  1,  1, -1, -1,  1,  1, -1,  1,  1,  1,  1, -1,\n",
       "        1,  1, -1, -1,  1, -1,  1,  1,  1,  1,  1,  1,  1, -1, -1, -1,  1,\n",
       "       -1,  1,  1,  1,  1,  1,  1,  1, -1,  1,  1,  1,  1,  1,  1, -1,  1,\n",
       "        1,  1,  1,  1,  1,  1,  1,  1, -1, -1,  1,  1,  1, -1, -1,  1, -1,\n",
       "        1,  1,  1,  1,  1, -1,  1,  1,  1,  1,  1,  1,  1,  1,  1, -1,  1,\n",
       "        1,  1,  1,  1, -1,  1,  1,  1,  1,  1,  1,  1,  1,  1, -1, -1,  1,\n",
       "        1,  1,  1,  1, -1, -1,  1,  1,  1,  1,  1,  1,  1,  1,  1,  1,  1,\n",
       "       -1, -1,  1, -1,  1, -1,  1,  1,  1,  1,  1,  1,  1,  1,  1,  1, -1,\n",
       "        1,  1,  1,  1,  1,  1,  1,  1,  1,  1, -1,  1,  1,  1,  1, -1,  1,\n",
       "        1,  1,  1, -1, -1,  1,  1, -1,  1, -1,  1,  1,  1,  1,  1, -1,  1,\n",
       "        1,  1, -1,  1,  1,  1,  1,  1,  1, -1,  1, -1,  1,  1,  1, -1, -1,\n",
       "       -1,  1,  1,  1,  1,  1, -1,  1,  1,  1,  1, -1,  1,  1,  1,  1,  1,\n",
       "        1,  1,  1,  1,  1, -1,  1,  1,  1,  1, -1,  1,  1,  1,  1,  1, -1,\n",
       "        1,  1,  1,  1, -1,  1,  1,  1,  1,  1, -1,  1,  1, -1, -1,  1,  1,\n",
       "       -1,  1,  1,  1,  1,  1,  1, -1,  1,  1,  1,  1,  1,  1,  1,  1,  1])"
      ]
     },
     "metadata": {},
     "output_type": "display_data"
    }
   ],
   "source": [
    "# Novas previsões:\n",
    "display(modelo_arvores.predict(teste_final))"
   ]
  }
 ],
 "metadata": {
  "interpreter": {
   "hash": "47f325e4dc201893daa5bfc21d6e0550aa455e6eede69b1a58a5614a1365b691"
  },
  "kernelspec": {
   "display_name": "Python 3.9.7 64-bit ('base': conda)",
   "language": "python",
   "name": "python3"
  },
  "language_info": {
   "codemirror_mode": {
    "name": "ipython",
    "version": 3
   },
   "file_extension": ".py",
   "mimetype": "text/x-python",
   "name": "python",
   "nbconvert_exporter": "python",
   "pygments_lexer": "ipython3",
   "version": "3.9.7"
  },
  "orig_nbformat": 4
 },
 "nbformat": 4,
 "nbformat_minor": 2
}
