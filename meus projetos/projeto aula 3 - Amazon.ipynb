{
 "cells": [
  {
   "cell_type": "markdown",
   "metadata": {},
   "source": [
    "Objetivo: te avisa se um produto está mais barato que um certo valor na Amazon"
   ]
  },
  {
   "cell_type": "code",
   "execution_count": 45,
   "metadata": {},
   "outputs": [
    {
     "name": "stdout",
     "output_type": "stream",
     "text": [
      "Infelizmente o Nitro 5 ainda está caro, na Amazon ele está 1199\n"
     ]
    }
   ],
   "source": [
    "from selenium import webdriver\n",
    "from selenium.webdriver.common.by import By\n",
    "from selenium.webdriver.common.keys import Keys\n",
    "\n",
    "produto = 'Nitro 5'\n",
    "valor_alvo = 800\n",
    "\n",
    "navegador = webdriver.Chrome()\n",
    "navegador.get('https://www.amazon.com')  # entra na amazon\n",
    "\n",
    "navegador.find_element(By.XPATH, '//*[@id=\"twotabsearchtextbox\"]').send_keys(produto + Keys.ENTER)\n",
    "\n",
    "# entra na sessão do teste padrão\n",
    "valor = navegador.find_element(By.XPATH, '//*[@id=\"search\"]/div[1]/div[1]/div/span[3]/div[2]/div[2]/div/div/div/div/div/div/div/div[2]/div/div/div[3]/div[1]/div/div[1]/div/a/span[1]/span[2]/span[2]').get_attribute(\"innerHTML\")\n",
    "valor = int(valor.split('<')[0].replace(',', ''))\n",
    "\n",
    "if valor < valor_alvo:\n",
    "    print('Produto achado!')\n",
    "    print(f'O {produto} foi achado na Amazon por {valor}')\n",
    "else:\n",
    "    print(f'Infelizmente o {produto} ainda está caro, na Amazon ele está {valor}')"
   ]
  }
 ],
 "metadata": {
  "interpreter": {
   "hash": "47f325e4dc201893daa5bfc21d6e0550aa455e6eede69b1a58a5614a1365b691"
  },
  "kernelspec": {
   "display_name": "Python 3.9.7 64-bit ('base': conda)",
   "language": "python",
   "name": "python3"
  },
  "language_info": {
   "codemirror_mode": {
    "name": "ipython",
    "version": 3
   },
   "file_extension": ".py",
   "mimetype": "text/x-python",
   "name": "python",
   "nbconvert_exporter": "python",
   "pygments_lexer": "ipython3",
   "version": "3.9.7"
  },
  "orig_nbformat": 4
 },
 "nbformat": 4,
 "nbformat_minor": 2
}
