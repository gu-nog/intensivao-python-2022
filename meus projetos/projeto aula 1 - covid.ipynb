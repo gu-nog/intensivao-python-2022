{
 "cells": [
  {
   "cell_type": "markdown",
   "id": "197bb3ba",
   "metadata": {},
   "source": [
    "# Projeto covid\n",
    "### Objetivo: te enviar um email com os dados atualizados sobre os casos de covid no Brasil"
   ]
  },
  {
   "cell_type": "code",
   "execution_count": 31,
   "id": "5c45eb9f",
   "metadata": {},
   "outputs": [],
   "source": [
    "import requests\n",
    "import pyautogui\n",
    "import pyperclip\n",
    "import time\n",
    "\n",
    "# Pegar dados do covid\n",
    "dados_covid = requests.get('https://covid-api.mmediagroup.fr/v1/cases?country=Brazil').json()\n",
    "\n",
    "# filtrar os dados\n",
    "casos_confirmados = dados_covid['All']['confirmed']\n",
    "mortes = dados_covid['All']['deaths']\n",
    "\n",
    "# entrar no site do gmail\n",
    "pyautogui.PAUSE = 1\n",
    "pyautogui.hotkey('ctrl', 't')\n",
    "pyperclip.copy('https://mail.google.com/mail/u/0/#inbox')\n",
    "pyautogui.hotkey('ctrl', 'v')\n",
    "pyautogui.hotkey('enter')\n",
    "time.sleep(3)\n",
    "pyautogui.click(x=90, y=222)\n",
    "\n",
    "# escrever o e-mail\n",
    "# remetente\n",
    "pyautogui.write('meu@gmailteste.com')\n",
    "pyautogui.hotkey('tab', 'tab')\n",
    "# assunto\n",
    "pyperclip.copy('Relatório covid-19 no Brasil')\n",
    "pyautogui.hotkey('ctrl', 'v')\n",
    "pyautogui.hotkey('tab')\n",
    "# corpo\n",
    "pyperclip.copy(f\"\"\"Olá Sr. Gustavo,\n",
    "\n",
    "Hoje o Brasil alcançou a marca de:\n",
    "- {casos_confirmados:,} casos confirmados de covid\n",
    "- {mortes:,} mortes por covid\n",
    "\n",
    "Tenha um bom dia e se cuide!\"\"\")\n",
    "pyautogui.hotkey('ctrl', 'v')\n",
    "\n",
    "# enviar o e-mail\n",
    "pyautogui.hotkey('ctrl', 'enter')"
   ]
  },
  {
   "cell_type": "code",
   "execution_count": null,
   "id": "ec737000",
   "metadata": {},
   "outputs": [],
   "source": []
  }
 ],
 "metadata": {
  "kernelspec": {
   "display_name": "Python 3 (ipykernel)",
   "language": "python",
   "name": "python3"
  },
  "language_info": {
   "codemirror_mode": {
    "name": "ipython",
    "version": 3
   },
   "file_extension": ".py",
   "mimetype": "text/x-python",
   "name": "python",
   "nbconvert_exporter": "python",
   "pygments_lexer": "ipython3",
   "version": "3.10.1"
  }
 },
 "nbformat": 4,
 "nbformat_minor": 5
}
